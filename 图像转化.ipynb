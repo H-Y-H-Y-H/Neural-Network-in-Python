{
 "cells": [
  {
   "cell_type": "code",
   "execution_count": null,
   "metadata": {},
   "outputs": [],
   "source": [
    "import scipy.misc\n",
    "\n",
    "#flatten = True 将图像编程简单到浮点数数组。如果颜色是彩色的会变成所要的灰度。\n",
    "img_arry = scipy.misc.imread(image_file_name, flatten =True)\n",
    "\n",
    "#重塑数组，将其从28*28变成很长的一串数值\n",
    "img_data = 255.0 - img_arry.reshape(784)\n",
    "img_data = (img_data / 255.0 *0.99)+0.01"
   ]
  },
  {
   "cell_type": "code",
   "execution_count": null,
   "metadata": {},
   "outputs": [],
   "source": []
  }
 ],
 "metadata": {
  "kernelspec": {
   "display_name": "Python 3",
   "language": "python",
   "name": "python3"
  },
  "language_info": {
   "codemirror_mode": {
    "name": "ipython",
    "version": 3
   },
   "file_extension": ".py",
   "mimetype": "text/x-python",
   "name": "python",
   "nbconvert_exporter": "python",
   "pygments_lexer": "ipython3",
   "version": "3.7.3"
  }
 },
 "nbformat": 4,
 "nbformat_minor": 2
}
