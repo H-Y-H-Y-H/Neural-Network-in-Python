{
 "cells": [
  {
   "cell_type": "markdown",
   "metadata": {},
   "source": [
    "手动运行一个测试看看模型是否会进行正确学习"
   ]
  },
  {
   "cell_type": "code",
   "execution_count": 28,
   "metadata": {},
   "outputs": [],
   "source": [
    "import numpy\n",
    "#导入s函数\n",
    "import scipy.special\n",
    "#导入绘图函数\n",
    "import matplotlib.pyplot\n",
    "%matplotlib inline\n",
    "\n",
    "import imageio\n",
    "\n",
    "import glob\n"
   ]
  },
  {
   "cell_type": "code",
   "execution_count": 29,
   "metadata": {},
   "outputs": [],
   "source": [
    "#定义：神经网络 类\n",
    "class neural_Network:\n",
    "    \n",
    "    # 初始化神经网络，3层和学习率\n",
    "    def __init__(self, inputnodes, hiddennodes, outputnodes, learningrate):\n",
    "        \n",
    "        #设置每层的输入隐藏输出的节点个数\n",
    "        self.i_nodes = inputnodes\n",
    "        self.h_nodes = hiddennodes\n",
    "        self.o_nodes = outputnodes\n",
    "        \n",
    "        #链接权重模型 link weight matrices: weight_i2h, weight_h2o\n",
    "        #weight_i2j 意味着从节点i到节点j\n",
    "        #numpy.random.normal（分布中心值，标准方差，输出的形式）\n",
    "        #生成初始的权重，根据正态分布。平均值为0，标准方差为节点传入链接数目的开方，即1/根号（传入链接数目），\n",
    "        #输出的形式为 h节点数*o节点数 的数组\n",
    "        self.weight_i2h = numpy.random.normal(0.0, pow(self.h_nodes, -0.5),(self.h_nodes, self.i_nodes))\n",
    "        self.weight_h2o = numpy.random.normal(0.0, pow(self.o_nodes, -0.5),(self.o_nodes, self.h_nodes))\n",
    "        \n",
    "        #学习率\n",
    "        self.lr = learningrate\n",
    "        \n",
    "        #激活函数activation function 是 sigmoid 函数，用lambda匿名函数定义\n",
    "        self.activation_function = lambda x:scipy.special.expit(x)\n",
    "        \n",
    "        pass\n",
    "\n",
    "    #训练神经网络\n",
    "    def train(self, inputs_list, targets_list):\n",
    "        # convert inputs list to 2d array 将输入转成数组\n",
    "        inputs = numpy.array(inputs_list, ndmin = 2).T\n",
    "        targets = numpy.array(targets_list, ndmin=2).T\n",
    "        \n",
    "        #计算 进入隐藏层的信号\n",
    "        #numpy.dot 数组的点乘\n",
    "        hidden_inputs = numpy.dot(self.weight_i2h, inputs)\n",
    "    \n",
    "        #计算 从隐藏层输出的信号\n",
    "        hidden_outputs = self.activation_function(hidden_inputs)\n",
    "    \n",
    "        #计算 进入最终层的信号\n",
    "        final_inputs = numpy.dot(self.weight_h2o, hidden_outputs)\n",
    "    \n",
    "        #计算 从最终层输出的信号\n",
    "        final_outputs = self.activation_function(final_inputs)\n",
    "        \n",
    "        \n",
    "        #计算 输出误差\n",
    "        output_errors = targets - final_outputs\n",
    "        \n",
    "        #隐藏层的误差是输出的误差根据权重拆分后，在隐藏层节点重组\n",
    "        hidden_errors = numpy.dot(self.weight_h2o.T, output_errors)\n",
    "        \n",
    "        #用输出误差优化隐藏层和最终层之间的权重:p153页\n",
    "        self.weight_h2o += self.lr * numpy.dot((output_errors*final_outputs*(1.0-final_outputs)), numpy.transpose(hidden_outputs))\n",
    "        \n",
    "        #用隐藏误差优化输入层和隐藏层之间的权重\n",
    "        self.weight_i2h += self.lr * numpy.dot((hidden_errors*hidden_outputs*(1.0-hidden_outputs)), numpy.transpose(inputs))\n",
    "        \n",
    "        pass\n",
    "\n",
    "    \n",
    "    # query查询结果——给定输入，从输出节点给出答案。\n",
    "    def query(self, inputs_list):\n",
    "    \n",
    "        # 将输入的数列转换成为2*2的矩阵\n",
    "        # .T矩阵转置\n",
    "        inputs = numpy.array(inputs_list, ndmin = 2).T\n",
    "    \n",
    "        #计算 进入隐藏层的信号\n",
    "        #numpy.dot 数组的点乘\n",
    "        hidden_inputs = numpy.dot(self.weight_i2h, inputs)\n",
    "    \n",
    "        #计算 从隐藏层输出的信号\n",
    "        hidden_outputs = self.activation_function(hidden_inputs)\n",
    "    \n",
    "        #计算 进入最终层的信号\n",
    "        final_inputs = numpy.dot(self.weight_h2o, hidden_outputs)\n",
    "    \n",
    "        #计算 从最终层输出的信号\n",
    "        final_outputs = self.activation_function(final_inputs)\n",
    "    \n",
    "        return final_outputs"
   ]
  },
  {
   "cell_type": "code",
   "execution_count": 30,
   "metadata": {},
   "outputs": [],
   "source": [
    "# 输入 各个层的节点个数\n",
    "# 输入层：28*28=784\n",
    "input_nodes = 784\n",
    "#隐藏层：随机\n",
    "hidden_nodes = 500\n",
    "#输出层\n",
    "output_nodes = 10 \n",
    "# 输入 学习速率\n",
    "learning_rate = 0.1\n",
    "# 创建输入神经网络样例\n",
    "n = neural_Network(input_nodes, hidden_nodes, output_nodes, learning_rate)\n"
   ]
  },
  {
   "cell_type": "code",
   "execution_count": 31,
   "metadata": {},
   "outputs": [],
   "source": [
    "#加载文件训练\n",
    "training_data_file = open (\"mnist_train.csv\",'r')\n",
    "training_data_list = training_data_file.readlines()\n",
    "training_data_file.close()\n"
   ]
  },
  {
   "cell_type": "code",
   "execution_count": 32,
   "metadata": {},
   "outputs": [],
   "source": [
    "#训练神经网络\n",
    "\n",
    "\n",
    "#epochs 是训练次数\n",
    "epochs = 10\n",
    "\n",
    "for e in range(epochs):\n",
    "    #经过训练数据集里的所有记录\n",
    "    for record in training_data_list:\n",
    "        #根据“，”分割\n",
    "        all_values = record.split(',')\n",
    "        #将输入变为0.01~0.99\n",
    "        inputs = (numpy.asfarray(all_values[1:])/255.0 *0.99)+0.01\n",
    "        #建立目标输出值（均为0.01，除了正确答案为0.99）\n",
    "        targets = numpy.zeros(output_nodes)+0.01\n",
    "        #all_values[0]是正确答案,设置为0.99\n",
    "        targets[int(all_values[0])]=0.99\n",
    "        n.train(inputs, targets)\n",
    "        pass\n",
    "    pass"
   ]
  },
  {
   "cell_type": "markdown",
   "metadata": {},
   "source": [
    "我们认为，神经网络应该可以发现在输入中的特征或模式，这些模式或特征可以使用比输入本身更加间简短的形式表达，因此没有选择比784大的数字。"
   ]
  },
  {
   "cell_type": "code",
   "execution_count": 38,
   "metadata": {},
   "outputs": [
    {
     "name": "stdout",
     "output_type": "stream",
     "text": [
      "loading... 自己的图像/2828_my_own_3.png\n",
      "0.01\n",
      "1.0\n",
      "loading... 自己的图像/2828_my_own_2.png\n",
      "0.01\n",
      "1.0\n",
      "loading... 自己的图像/2828_my_own_5.png\n",
      "0.01\n",
      "0.86800003\n",
      "loading... 自己的图像/2828_my_own_4.png\n",
      "0.01\n",
      "0.93011767\n",
      "loading... 自己的图像/2828_my_own_6.png\n",
      "0.01\n",
      "1.0\n"
     ]
    }
   ],
   "source": [
    "#加载我们自己的文件测试,将文件放入到test_data_list\n",
    "\n",
    "our_own_dataset = []\n",
    "\n",
    "#加载png图像到测试数据集\n",
    "for image_file_name in glob.glob('自己的图像/2828_my_own_?.png'):\n",
    "    #使用文件名设定正确的标志\n",
    "    label = int(image_file_name[-5:-4])\n",
    "    \n",
    "    print('loading...',image_file_name)\n",
    "    #as_grey 将图像编程简单到浮点数数组。如果颜色是彩色的会变成所要的灰度。\n",
    "    img_array = imageio.imread(image_file_name, as_gray =True)\n",
    "\n",
    "    #重塑数组，将其从28*28变成很长的一串数值\n",
    "    img_data = 255.0 - img_array.reshape(784)\n",
    "    \n",
    "    img_data = (img_data / 255.0 *0.99)+0.01\n",
    "    print(numpy.min(img_data))\n",
    "    print(numpy.max(img_data))\n",
    "    \n",
    "    #增加标签和图像数据到测试集\n",
    "    record = numpy.append(label,img_data)\n",
    "    our_own_dataset.append(record)\n",
    "    \n",
    "    pass"
   ]
  },
  {
   "cell_type": "code",
   "execution_count": 40,
   "metadata": {},
   "outputs": [
    {
     "name": "stdout",
     "output_type": "stream",
     "text": [
      "[[1.21684685e-03]\n",
      " [5.93115520e-03]\n",
      " [2.83073306e-01]\n",
      " [2.58631682e-01]\n",
      " [4.47144475e-03]\n",
      " [8.31204310e-04]\n",
      " [8.84917343e-05]\n",
      " [1.44333997e-01]\n",
      " [3.26094630e-05]\n",
      " [9.68574289e-04]]\n",
      "networks says 2\n",
      "match!\n"
     ]
    },
    {
     "data": {
      "image/png": "[encoded data removed]",
      "text/plain": [
       "<Figure size 432x288 with 1 Axes>"
      ]
     },
     "metadata": {
      "needs_background": "light"
     },
     "output_type": "display_data"
    }
   ],
   "source": [
    "#测试自己的图像\n",
    "\n",
    "item = 1\n",
    "matplotlib.pyplot.imshow(our_own_dataset[item][1:].reshape(28,28), cmap='Greys', interpolation='None')\n",
    "\n",
    "#正确的数值是数据中第一个数\n",
    "correct_label = our_own_dataset[item][0]\n",
    "\n",
    "#测试的数据是剩下的数字\n",
    "inputs = our_own_dataset[item][1:]\n",
    "\n",
    "#启动\n",
    "outputs = n.query(inputs)\n",
    "print(outputs)\n",
    "\n",
    "#\n",
    "label = numpy.argmax(outputs)\n",
    "print(\"networks says\", label)\n",
    "\n",
    "if (label==correct_label):\n",
    "    print(\"match!\")\n",
    "else:\n",
    "    print(\"wrong!\")\n",
    "    pass"
   ]
  },
  {
   "cell_type": "code",
   "execution_count": null,
   "metadata": {},
   "outputs": [],
   "source": []
  }
 ],
 "metadata": {
  "kernelspec": {
   "display_name": "Python 3",
   "language": "python",
   "name": "python3"
  },
  "language_info": {
   "codemirror_mode": {
    "name": "ipython",
    "version": 3
   },
   "file_extension": ".py",
   "mimetype": "text/x-python",
   "name": "python",
   "nbconvert_exporter": "python",
   "pygments_lexer": "ipython3",
   "version": "3.7.3"
  }
 },
 "nbformat": 4,
 "nbformat_minor": 2
}
